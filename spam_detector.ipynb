{
 "cells": [
  {
   "cell_type": "markdown",
   "id": "7aac7ce0-22cd-45ea-a051-599a50a9293f",
   "metadata": {},
   "source": [
    "**1. Import Required Libraries and NLTK Resources**"
   ]
  },
  {
   "cell_type": "code",
   "execution_count": 4,
   "id": "5421e30f-ca64-4eaf-aafd-7fcb109e8a07",
   "metadata": {},
   "outputs": [
    {
     "name": "stderr",
     "output_type": "stream",
     "text": [
      "[nltk_data] Downloading package stopwords to\n",
      "[nltk_data]     C:\\Users\\user\\AppData\\Roaming\\nltk_data...\n",
      "[nltk_data]   Package stopwords is already up-to-date!\n",
      "[nltk_data] Downloading package punkt to\n",
      "[nltk_data]     C:\\Users\\user\\AppData\\Roaming\\nltk_data...\n",
      "[nltk_data]   Package punkt is already up-to-date!\n"
     ]
    },
    {
     "data": {
      "text/plain": [
       "True"
      ]
     },
     "execution_count": 4,
     "metadata": {},
     "output_type": "execute_result"
    }
   ],
   "source": [
    "import pandas as pd\n",
    "import string\n",
    "import nltk\n",
    "import joblib\n",
    "import matplotlib.pyplot as plt\n",
    "import seaborn as sns\n",
    "\n",
    "from nltk.corpus import stopwords\n",
    "from nltk.tokenize import word_tokenize\n",
    "from nltk.stem import PorterStemmer\n",
    "\n",
    "from sklearn.base import BaseEstimator, TransformerMixin\n",
    "from sklearn.pipeline import Pipeline\n",
    "from sklearn.svm import LinearSVC\n",
    "from sklearn.feature_extraction.text import TfidfVectorizer\n",
    "from sklearn.model_selection import train_test_split\n",
    "from sklearn.metrics import accuracy_score, classification_report, confusion_matrix, f1_score\n",
    "\n",
    "nltk.download('stopwords')\n",
    "nltk.download('punkt')"
   ]
  },
  {
   "cell_type": "markdown",
   "id": "b26d587e-a245-43c5-a7dd-084394c2a2ac",
   "metadata": {},
   "source": [
    "**2. Define Custom Text Preprocessor Class**"
   ]
  },
  {
   "cell_type": "code",
   "execution_count": 7,
   "id": "23115544-a203-45f4-b7e5-5f785fdca9b1",
   "metadata": {},
   "outputs": [],
   "source": [
    "class TextPreprocessor(BaseEstimator, TransformerMixin):\n",
    "    def __init__(self):\n",
    "        self.stemmer = PorterStemmer()\n",
    "        self.stop_words = set(stopwords.words('english')) - {'not', 'no'}\n",
    "\n",
    "    def preprocess(self, text):\n",
    "        text = text.lower().translate(str.maketrans('', '', string.punctuation))\n",
    "        tokens = word_tokenize(text)\n",
    "        return ' '.join([self.stemmer.stem(word) for word in tokens if word not in self.stop_words])\n",
    "\n",
    "    def fit(self, X, y=None):\n",
    "        return self\n",
    "\n",
    "    def transform(self, X):\n",
    "        return X.apply(self.preprocess)"
   ]
  },
  {
   "cell_type": "markdown",
   "id": "4edb2f68-c1fe-4ac2-9368-1303ca99fafe",
   "metadata": {},
   "source": [
    "**3. Load and Prepare the Dataset**"
   ]
  },
  {
   "cell_type": "code",
   "execution_count": 10,
   "id": "a82e5999-f21a-4966-a03d-93ad40b62b5f",
   "metadata": {},
   "outputs": [],
   "source": [
    "data = pd.read_csv(\"SMSSpamCollection\", sep='\\t', header=None, names=[\"label\", \"message\"], encoding='latin1')\n",
    "X = data['message']\n",
    "y = data['label']"
   ]
  },
  {
   "cell_type": "markdown",
   "id": "b96ff89c-2fff-4468-bf1a-059c6e018dc6",
   "metadata": {},
   "source": [
    "**4. Split Data into Training and Testing Sets**"
   ]
  },
  {
   "cell_type": "code",
   "execution_count": 13,
   "id": "9b125aec-3b7d-42e8-b7cb-ebfb62f240a4",
   "metadata": {},
   "outputs": [],
   "source": [
    "X_train, X_test, y_train, y_test = train_test_split(X, y, test_size=0.2, random_state=42)"
   ]
  },
  {
   "cell_type": "markdown",
   "id": "cc44f205-9960-43e6-8ce6-0a461cdce5ef",
   "metadata": {},
   "source": [
    "**5. Build the Machine Learning Pipeline**"
   ]
  },
  {
   "cell_type": "code",
   "execution_count": 40,
   "id": "613896c4-7a6e-4a40-be71-2de3878f0d4a",
   "metadata": {},
   "outputs": [],
   "source": [
    "model = Pipeline([\n",
    "    ('preprocess', TextPreprocessor()),\n",
    "    ('tfidf', TfidfVectorizer(max_features=10000,ngram_range=(1, 2),min_df=3,max_df=0.8)),\n",
    "    ('classifier', LinearSVC(class_weight='balanced', dual=False))\n",
    "])"
   ]
  },
  {
   "cell_type": "markdown",
   "id": "b7fd9222-2df7-4b2c-9bb5-56a5f2c92cb8",
   "metadata": {},
   "source": [
    "**6. Train the Model**"
   ]
  },
  {
   "cell_type": "code",
   "execution_count": 19,
   "id": "e6161eb2-46e1-4e23-8573-7ec6d95279b2",
   "metadata": {},
   "outputs": [
    {
     "name": "stdout",
     "output_type": "stream",
     "text": [
      "Model training completed.\n"
     ]
    }
   ],
   "source": [
    "model.fit(X_train, y_train)\n",
    "print(\"Model training completed.\")"
   ]
  },
  {
   "cell_type": "markdown",
   "id": "7b0bc42c-e37b-4557-acea-5c364959b821",
   "metadata": {},
   "source": [
    "**7. Evaluate Model Performance on Test Set**"
   ]
  },
  {
   "cell_type": "code",
   "execution_count": 38,
   "id": "1f964a42-d720-4032-abaf-64beae3f89d7",
   "metadata": {},
   "outputs": [
    {
     "name": "stdout",
     "output_type": "stream",
     "text": [
      "\n",
      "Accuracy: 98.83%\n",
      "\n",
      "Classification Report:\n",
      "              precision    recall  f1-score   support\n",
      "\n",
      "         ham       0.99      1.00      0.99       966\n",
      "        spam       0.98      0.93      0.96       149\n",
      "\n",
      "    accuracy                           0.99      1115\n",
      "   macro avg       0.98      0.96      0.97      1115\n",
      "weighted avg       0.99      0.99      0.99      1115\n",
      "\n",
      "\n",
      "Confusion Matrix:\n",
      "[[963   3]\n",
      " [ 10 139]]\n",
      "\n",
      "F1 Score (Spam): 0.9553\n"
     ]
    }
   ],
   "source": [
    "predictions = model.predict(X_test)\n",
    "\n",
    "print(f\"\\nAccuracy: {accuracy_score(y_test, predictions) * 100:.2f}%\")\n",
    "print(\"\\nClassification Report:\")\n",
    "print(classification_report(y_test, predictions))\n",
    "\n",
    "cm = confusion_matrix(y_test, predictions)\n",
    "print(\"\\nConfusion Matrix:\")\n",
    "print(cm)\n",
    "\n",
    "print(f\"\\nF1 Score (Spam): {f1_score(y_test, predictions, pos_label='spam'):.4f}\")"
   ]
  },
  {
   "cell_type": "markdown",
   "id": "ba9bef1c-4d91-4565-8f9c-49dfd773c960",
   "metadata": {},
   "source": [
    "**8. Visualize Confusion Matrix**"
   ]
  },
  {
   "cell_type": "code",
   "execution_count": 27,
   "id": "510a6f98-39c0-4db4-a514-1ab0ed38d811",
   "metadata": {},
   "outputs": [
    {
     "data": {
      "image/png": "[encoded data removed]",
      "text/plain": [
       "<Figure size 600x400 with 2 Axes>"
      ]
     },
     "metadata": {},
     "output_type": "display_data"
    }
   ],
   "source": [
    "plt.figure(figsize=(6, 4))\n",
    "sns.heatmap(cm, annot=True, fmt='d', cmap='Blues', xticklabels=['Ham', 'Spam'], yticklabels=['Ham', 'Spam'])\n",
    "plt.title(\"Confusion Matrix\")\n",
    "plt.xlabel(\"Predicted\")\n",
    "plt.ylabel(\"Actual\")\n",
    "plt.tight_layout()\n",
    "plt.show()"
   ]
  },
  {
   "cell_type": "markdown",
   "id": "caf7028c-cc00-42f5-99cd-f9db1782ea35",
   "metadata": {},
   "source": [
    "**9. Save the Trained Model**"
   ]
  },
  {
   "cell_type": "code",
   "execution_count": 30,
   "id": "6dacb9f7-d413-40c6-9d0f-ad0381071cb4",
   "metadata": {},
   "outputs": [
    {
     "name": "stdout",
     "output_type": "stream",
     "text": [
      "Model saved as 'spam_detector_model.pkl'\n"
     ]
    }
   ],
   "source": [
    "joblib.dump(model, \"spam_detector_model.pkl\")\n",
    "print(\"Model saved as 'spam_detector_model.pkl'\")"
   ]
  },
  {
   "cell_type": "markdown",
   "id": "e48fd70f-817b-4001-80a6-a74bced2a0d4",
   "metadata": {},
   "source": [
    "**10. Create an External Test Set (Unseen Messages)**"
   ]
  },
  {
   "cell_type": "code",
   "execution_count": 33,
   "id": "7778a99c-ae58-49c1-b0ec-2e16f925b053",
   "metadata": {},
   "outputs": [],
   "source": [
    "test_messages = [\n",
    "    # Spam messages\n",
    "    \"Win a FREE ringtone! Text WIN to 80082 now!\",\n",
    "    \"Congratulations! You won £500 cash. Call 09061701461 now!\",\n",
    "    \"Get FREE polyphonic tones by texting POLY to 8888.\",\n",
    "    \"URGENT! You have won a 2-week holiday. Call 09061702893 now!\",\n",
    "    \"FREE entry into our weekly draw. Text WIN to 85069 now.\",\n",
    "    \"You have won a guaranteed prize. Call 09050000327 now!\",\n",
    "    \"Claim your FREE message tones. Text TONE to 80010 now.\",\n",
    "    \"WIN a brand new mobile! Reply YES to claim.\",\n",
    "    \"FREE video camera on new mobile contract! Call now.\",\n",
    "    \"You have won £1000 guaranteed cash. Call 09061701461 now.\",\n",
    "    \"Exclusive offer: 1000 free texts. Call 08002986906 now!\",\n",
    "    \"FREE entry in our £100 cash draw. Text CASH to 8888.\",\n",
    "    \"URGENT! Claim your FREE voucher now. Call 09061701444.\",\n",
    "    \"You are selected to win FREE tickets. Call now.\",\n",
    "    \"FREE upgrade on your mobile plan. Call 08002986030.\",\n",
    "    \"Win a holiday for 2. Call 09050000321 now.\",\n",
    "    \"Your prize is waiting! Call 09061702893 immediately.\",\n",
    "    \"FREE ringtone for your mobile! Reply RING now.\",\n",
    "    \"Claim your guaranteed prize today. Call 08002986906.\",\n",
    "    \"You have won a FREE weekend getaway. Call 09050000327 now.\",\n",
    "    \"Get FREE ringtones and wallpapers! Text FUN to 80082.\",\n",
    "    \"You have won 500 FREE SMS. Call 09061701444.\",\n",
    "    \"URGENT! You have won £2000. Call 09050000321 now!\",\n",
    "    \"FREE mobile games available. Text GAME to 80010.\",\n",
    "    \"Win BIG prizes! Call 09061702893 now.\",\n",
    "    # Ham messages\n",
    "    \"Hey, are you free for dinner tonight?\",\n",
    "    \"Can you call me when you get this?\",\n",
    "    \"Happy birthday! Have a great day.\",\n",
    "    \"Are you coming to the meeting at 5?\",\n",
    "    \"Let’s go out this weekend.\",\n",
    "    \"Thanks for your help today.\",\n",
    "    \"Did you reach home safely?\",\n",
    "    \"Don’t forget to bring the charger.\",\n",
    "    \"See you at the office tomorrow.\",\n",
    "    \"I’ll call you in the evening.\",\n",
    "    \"Good luck with your exams!\",\n",
    "    \"Can you send me the notes later?\",\n",
    "    \"Are we still on for lunch?\",\n",
    "    \"Let me know when you’re online.\",\n",
    "    \"Please call me when you’re free.\",\n",
    "    \"Are you busy right now?\",\n",
    "    \"Don’t be late for the movie.\",\n",
    "    \"Meeting is at 10 AM tomorrow.\",\n",
    "    \"I’ll text you after the class.\",\n",
    "    \"Can you help me with this project?\",\n",
    "    \"Thanks for the gift, really appreciate it.\",\n",
    "    \"Let’s meet at the coffee shop at 4.\",\n",
    "    \"Are you still at the gym?\",\n",
    "    \"Just reached home, where are you?\",\n",
    "    \"Take care and have a good night.\"\n",
    "]\n",
    "\n",
    "true_labels = [\"spam\"] * 25 + [\"ham\"] * 25\n",
    "external_series = pd.Series(test_messages)\n",
    "external_predictions = model.predict(external_series)"
   ]
  },
  {
   "cell_type": "markdown",
   "id": "63b5528b-9fd3-4cbd-9a66-c59f425fbecf",
   "metadata": {},
   "source": [
    "**11. Evaluate Model on External Test Set & Display Misclassified Messages**"
   ]
  },
  {
   "cell_type": "code",
   "execution_count": 36,
   "id": "f5cf4ebb-eb46-46ec-8700-24a335508ee9",
   "metadata": {},
   "outputs": [
    {
     "name": "stdout",
     "output_type": "stream",
     "text": [
      "\n",
      "===== External Test Set Results =====\n",
      "Total Messages: 50\n",
      "Correct Predictions: 49\n",
      "Incorrect Predictions: 1\n",
      "Accuracy: 98.00%\n",
      "Error Rate: 2.00%\n",
      "\n",
      "===== Misclassified Messages =====\n",
      "Message: Please call me when you’re free.\n",
      "Predicted: spam | Actual: ham\n",
      "------------------------------------------------------------\n"
     ]
    }
   ],
   "source": [
    "correct_predictions = sum(1 for true, pred in zip(true_labels, external_predictions) if true == pred)\n",
    "total_messages = len(test_messages)\n",
    "accuracy = (correct_predictions / total_messages) * 100\n",
    "error_rate = 100 - accuracy\n",
    "\n",
    "print(\"\\n===== External Test Set Results =====\")\n",
    "print(f\"Total Messages: {total_messages}\")\n",
    "print(f\"Correct Predictions: {correct_predictions}\")\n",
    "print(f\"Incorrect Predictions: {total_messages - correct_predictions}\")\n",
    "print(f\"Accuracy: {accuracy:.2f}%\")\n",
    "print(f\"Error Rate: {error_rate:.2f}%\")\n",
    "\n",
    "\n",
    "print(\"\\n===== Misclassified Messages =====\")\n",
    "for msg, pred, actual in zip(test_messages, external_predictions, true_labels):\n",
    "    if pred != actual:\n",
    "        print(f\"Message: {msg}\")\n",
    "        print(f\"Predicted: {pred} | Actual: {actual}\")\n",
    "        print('-' * 60)\n"
   ]
  },
  {
   "cell_type": "code",
   "execution_count": null,
   "id": "e791abad-9f30-469a-ad7c-25f6c5e28fbd",
   "metadata": {},
   "outputs": [],
   "source": []
  }
 ],
 "metadata": {
  "kernelspec": {
   "display_name": "Python [conda env:base] *",
   "language": "python",
   "name": "conda-base-py"
  },
  "language_info": {
   "codemirror_mode": {
    "name": "ipython",
    "version": 3
   },
   "file_extension": ".py",
   "mimetype": "text/x-python",
   "name": "python",
   "nbconvert_exporter": "python",
   "pygments_lexer": "ipython3",
   "version": "3.12.7"
  }
 },
 "nbformat": 4,
 "nbformat_minor": 5
}
